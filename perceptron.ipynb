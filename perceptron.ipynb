{
  "nbformat": 4,
  "nbformat_minor": 0,
  "metadata": {
    "colab": {
      "name": "perceptron.ipynb",
      "provenance": [],
      "collapsed_sections": [],
      "include_colab_link": true
    },
    "kernelspec": {
      "name": "python3",
      "display_name": "Python 3"
    }
  },
  "cells": [
    {
      "cell_type": "markdown",
      "metadata": {
        "id": "view-in-github",
        "colab_type": "text"
      },
      "source": [
        "<a href=\"https://colab.research.google.com/github/sime1/notebooks/blob/master/perceptron.ipynb\" target=\"_parent\"><img src=\"https://colab.research.google.com/assets/colab-badge.svg\" alt=\"Open In Colab\"/></a>"
      ]
    },
    {
      "cell_type": "markdown",
      "metadata": {
        "id": "iDVW_BF7NnqM",
        "colab_type": "text"
      },
      "source": [
        "# Perceptron\n",
        "\n",
        "Questo notebook contiene un'implementazione \"didattica\" dell'algoritmo **perceptron** creata utilizzando *NumPy*.\n",
        "\n",
        "Ho implementato un perceptron binario (output -1 e +1), creando una classe che assomigli a quelle dei modelli di `sklearn`."
      ]
    },
    {
      "cell_type": "markdown",
      "metadata": {
        "id": "Ex9CudWhoJXb",
        "colab_type": "text"
      },
      "source": [
        "## Perceptron\n",
        "\n",
        "La classe `Perceptron` permette di essere inizializzata con un `random_state`, e fornisce i metodi `fit`, `score` e `predict` per l'allenamento e la valutazione del modello.\n",
        "\n",
        "### `fit`\n",
        "\n",
        "La funzione `fit` inizializza casualmente il vettore $w$ dei pesi e poi itera\n",
        "`max_passes` volte il dataset, aggiornando i pesi in base al valore di `rate`.\n",
        "Durante il processo di training viene tenuta traccia del miglior valore di $w$, per poi farne uso dopo il training nei metodi `predict` e `score`\n",
        "\n",
        "Ho utilizzato il pacchetto `tqdm` per visualizzare una progress bar durante il training.\n",
        "\n",
        "### `score`\n",
        "\n",
        "Come score viene utilizzata l'accuratezza media, ossia \n",
        "\n",
        "$1/n \\sum_{i=0}^{n-1}1(o_{i}=t_{i})$\n",
        "\n",
        "dove $o$ è il vettore contenente le label che prevede il modello, $t$ è il vettore contenente i valori noti delle label e \"$=$\" è l'operatore booleano che ritorna 1 se i due operandi sono uguali e 0 altrimenti."
      ]
    },
    {
      "cell_type": "code",
      "metadata": {
        "id": "1tSoIjC7Nm14",
        "colab_type": "code",
        "colab": {}
      },
      "source": [
        "import numpy as np\n",
        "from tqdm import trange\n",
        "from numpy import sign\n",
        "\n",
        "class Perceptron:\n",
        "  def __init__(self, random_state=None, max_passes=100, rate=0.0001):\n",
        "    self.rate = rate\n",
        "    self.rng = np.random.RandomState(seed=random_state)\n",
        "    self.max_passes = max_passes\n",
        "    self.rate = rate\n",
        "    self.best_score = 0\n",
        "\n",
        "  def __perceptron_pass(self, x,y):\n",
        "    for i, p in enumerate(x):\n",
        "      # aggiungo 1 per la costante b\n",
        "      p = np.append([1], p)\n",
        "      t = y[i]\n",
        "      o = self.__output(p)\n",
        "      if o != t:\n",
        "        self.w = self.w + self.rate * (t - o) * p\n",
        "\n",
        "  def __output(self, p):\n",
        "    return sign(np.dot(p, self.w))\n",
        "\n",
        "  def score(self, x, y):\n",
        "    correct = 0\n",
        "    for i, p in enumerate(x):\n",
        "      p = np.append([1], p)\n",
        "      if self.__output(p) == y[i]:\n",
        "        correct += 1\n",
        "    return correct / len(y)\n",
        "  \n",
        "  def fit(self, x, y):\n",
        "    # + 1 perchè un peso corrisponde alla costante b (traslazione della retta)\n",
        "    self.w = self.rng.random_sample(x.shape[1] + 1)\n",
        "    with trange(self.max_passes) as t:\n",
        "      for i in t:\n",
        "        self.__perceptron_pass(x,y)\n",
        "        score = self.score(x,y)\n",
        "        t.set_description(f\"pass {i}\")\n",
        "        t.set_postfix(score=score)\n",
        "        if score > self.best_score:\n",
        "          self.best_score = score\n",
        "          self.best_w = self.w\n",
        "        if score == 100:\n",
        "          break\n",
        "    self.w = self.best_w\n",
        "  \n",
        "  def predict(self,x):\n",
        "    y = []\n",
        "    for p in x:\n",
        "      y.append(self.__output(p))\n",
        "    return np.array(y)"
      ],
      "execution_count": 0,
      "outputs": []
    },
    {
      "cell_type": "markdown",
      "metadata": {
        "id": "bqnZcwXxr1Nf",
        "colab_type": "text"
      },
      "source": [
        "## Breast Cancer Dataset\n",
        "\n",
        "Definito il modello, ho provato ad utilizzarlo per la classificazione del dataset *breast cancer* fornito da `sklearn`"
      ]
    },
    {
      "cell_type": "code",
      "metadata": {
        "id": "qvtv-WOZRr_B",
        "colab_type": "code",
        "outputId": "016344c1-c768-4b6c-f2d2-57c9cdec1dfe",
        "colab": {
          "base_uri": "https://localhost:8080/",
          "height": 72
        }
      },
      "source": [
        "import pandas as pd\n",
        "from sklearn.model_selection import train_test_split\n",
        "from sklearn.datasets import load_breast_cancer\n",
        "\n",
        "dataset = load_breast_cancer()\n",
        "x = dataset.data\n",
        "# devo preprocessare i dati perché le classi siano +1 e -1\n",
        "y = [ 1 if y == 1 else -1 for y in dataset.target ]\n",
        "x_train, x_test, y_train, y_test = train_test_split(x,y,test_size=0.2,random_state=1)\n",
        "\n",
        "model = Perceptron(random_state=1, max_passes=1000, rate=0.000001)\n",
        "model.fit(x_train,y_train)\n",
        "score = model.score(x_test, y_test)\n",
        "\n",
        "print(f\"\\nscore: {score}\")\n"
      ],
      "execution_count": 2,
      "outputs": [
        {
          "output_type": "stream",
          "text": [
            "pass 999: 100%|██████████| 1000/1000 [00:14<00:00, 71.43it/s, score=0.921]"
          ],
          "name": "stderr"
        },
        {
          "output_type": "stream",
          "text": [
            "\n",
            "score: 0.9122807017543859\n"
          ],
          "name": "stdout"
        },
        {
          "output_type": "stream",
          "text": [
            "\n"
          ],
          "name": "stderr"
        }
      ]
    },
    {
      "cell_type": "markdown",
      "metadata": {
        "id": "a1CiNBwSv-tN",
        "colab_type": "text"
      },
      "source": [
        "## Osservazioni\n",
        "\n",
        "* Come criterio di stop è stato implementato unicamente il numero massimo di passi. In un esempio più completo probabilmente verrebbe presa in considerazione anche la variazione di performance del modello, per fermarsi dopo un numero di passi nei quali il modello non è migliorato.\n",
        "* Probabilmente sarebbe meglio usare il modello che ha migliore score sui dati di validation e non training. In tal caso bisognerebbe modificare la classe per poter ricevere in input anche i dati da usare per la validazione.\n",
        "* Il modello è stato scritto in modo che fosse chiaro il funzionamento dell'algoritmo. In questo senso è interessante a scopo didattico, ma non è utilizzabile in uno scenario reale, dove metodi implementati nativamente e ottimizzati possono fornire prestazioni migliori di diversi ordini di grandezza.\n"
      ]
    }
  ]
}